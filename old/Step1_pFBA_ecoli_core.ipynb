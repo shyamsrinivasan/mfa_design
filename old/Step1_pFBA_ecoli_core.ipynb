{
 "cells": [
  {
   "cell_type": "code",
   "execution_count": 1,
   "metadata": {},
   "outputs": [],
   "source": [
    "import cobra, os, re\n",
    "import pandas as pd\n",
    "import numpy as np\n",
    "from tqdm import tqdm"
   ]
  },
  {
   "cell_type": "code",
   "execution_count": 2,
   "metadata": {},
   "outputs": [],
   "source": [
    "#dir_pfba = './output/pfba/'\n",
    "#if not os.path.exists(dir_pfba):\n",
    "#    os.makedirs(dir_pfba)\n",
    "    \n",
    "biomId = 'BIOMASS_Ecoli_core_w_GAM'"
   ]
  },
  {
   "cell_type": "code",
   "execution_count": 3,
   "metadata": {},
   "outputs": [],
   "source": [
    "modelStart = cobra.io.load_json_model('./input/e_coli_core.json')\n",
    "modelStart.reactions.EX_glc__D_e.lower_bound = -10. # default\n",
    "modelStart.reactions.EX_o2_e.lower_bound = -1000. # default\n",
    "pfba_M9 = cobra.flux_analysis.pfba(modelStart)\n",
    "gMinMedium = pfba_M9.fluxes[biomId]\n",
    "#pfba_M9.fluxes.to_csv(dir_pfba + 'pfba_WT_M9.csv', sep='\\t')"
   ]
  },
  {
   "cell_type": "code",
   "execution_count": 4,
   "metadata": {},
   "outputs": [
    {
     "data": {
      "text/plain": [
       "0.8739215069684309"
      ]
     },
     "execution_count": 4,
     "metadata": {},
     "output_type": "execute_result"
    }
   ],
   "source": [
    "gMinMedium"
   ]
  },
  {
   "cell_type": "markdown",
   "metadata": {},
   "source": [
    "Essential rxns from essential gene"
   ]
  },
  {
   "cell_type": "code",
   "execution_count": 5,
   "metadata": {
    "scrolled": true
   },
   "outputs": [],
   "source": [
    "df_ess = pd.read_csv('./input/Ecoli_ess_PECData.dat', sep='\\t')\n",
    "df_ess = df_ess[df_ess['Feature Type(1:gene 2:rRNA 3:tRNA 4:ncRNA 7:tmRNA 8:sRNA)'] == 1]\n",
    "df_ess = df_ess[df_ess['Class(1:essential 2:noessential 3:unknown)'] == 1]\n",
    "\n",
    "idx = []\n",
    "for i in df_ess.index:\n",
    "    names = df_ess['Alternative name'][i]\n",
    "    idx.append(re.findall('b\\d{4}', names)[0])\n",
    "df_ess.index = idx"
   ]
  },
  {
   "cell_type": "code",
   "execution_count": 6,
   "metadata": {},
   "outputs": [],
   "source": [
    "genes_ess = [g.id for g in modelStart.genes if g.id in df_ess.index]\n",
    "rxns_from_ess_gene = []\n",
    "\n",
    "model_raw = modelStart.copy()\n",
    "model = modelStart.copy()\n",
    "\n",
    "for gid in genes_ess:\n",
    "    g = model.genes.get_by_id(gid)\n",
    "    g.knock_out()\n",
    "    \n",
    "    for rxn in g.reactions:\n",
    "        if rxn.bounds != model_raw.reactions.get_by_id(rxn.id).bounds:\n",
    "            rxns_from_ess_gene.append(rxn.id)\n",
    "            \n",
    "    g.functionall = True\n",
    "    for rxn in g.reactions:\n",
    "        rxn.bounds = model_raw.reactions.get_by_id(rxn.id).bounds"
   ]
  },
  {
   "cell_type": "markdown",
   "metadata": {},
   "source": [
    "Exchange and transport rxns"
   ]
  },
  {
   "cell_type": "code",
   "execution_count": 7,
   "metadata": {},
   "outputs": [],
   "source": [
    "exrxns = [rxn.id for rxn in model.reactions if rxn.id[:3] == 'EX_']\n",
    "# Excluding PEP:phosphotransferase rxns\n",
    "tprxns = [rxn.id for rxn in model.reactions if ('t' in rxn.id or 'abc' in rxn.id)\\\n",
    "          and rxn.id not in ['EX_etoh_e, FRUpts2', 'GLCpts']]"
   ]
  },
  {
   "cell_type": "markdown",
   "metadata": {},
   "source": [
    "Essential rxns in silico"
   ]
  },
  {
   "cell_type": "code",
   "execution_count": 8,
   "metadata": {},
   "outputs": [
    {
     "name": "stdout",
     "output_type": "stream",
     "text": [
      "EX_glc__D_e\n",
      "GLCpts\n"
     ]
    },
    {
     "name": "stderr",
     "output_type": "stream",
     "text": [
      "cobra/util/solver.py:408 \u001b[1;31mUserWarning\u001b[0m: solver status is 'infeasible'\n"
     ]
    }
   ],
   "source": [
    "model_raw = modelStart.copy()\n",
    "model = modelStart.copy()\n",
    "\n",
    "rxns_ess = []\n",
    "for rxn in model.reactions:\n",
    "    rxn.knock_out()\n",
    "    fbako = model.optimize()\n",
    "    if fbako.status in [None, 'infeasible']:\n",
    "        print rxn.id\n",
    "    \n",
    "    if fbako.f < 0.25*gMinMedium:\n",
    "        rxns_ess.append(rxn.id)\n",
    "        \n",
    "    rxn.bounds = model_raw.reactions.get_by_id(rxn.id).bounds"
   ]
  },
  {
   "cell_type": "markdown",
   "metadata": {},
   "source": [
    "No GPR reactions"
   ]
  },
  {
   "cell_type": "code",
   "execution_count": 9,
   "metadata": {},
   "outputs": [],
   "source": [
    "rxns_nogpr = [rxn.id for rxn in model.reactions if rxn.gene_reaction_rule in ['', 's0001']]"
   ]
  },
  {
   "cell_type": "markdown",
   "metadata": {},
   "source": [
    "Special case: TKT and Biomass reaction"
   ]
  },
  {
   "cell_type": "code",
   "execution_count": 10,
   "metadata": {},
   "outputs": [],
   "source": [
    "rxns_spec = [biomId, 'TKT1', 'TKT2']"
   ]
  },
  {
   "cell_type": "markdown",
   "metadata": {},
   "source": [
    "Gather all reactions to be excluded from being KO for mutants"
   ]
  },
  {
   "cell_type": "code",
   "execution_count": 11,
   "metadata": {},
   "outputs": [],
   "source": [
    "rxns_excl = rxns_from_ess_gene + exrxns + tprxns + rxns_ess + rxns_spec + rxns_nogpr\n",
    "rxns_check = [rxn.id for rxn in model.reactions if rxn.id not in rxns_excl]"
   ]
  },
  {
   "cell_type": "markdown",
   "metadata": {},
   "source": [
    "Run and record flux"
   ]
  },
  {
   "cell_type": "code",
   "execution_count": 12,
   "metadata": {},
   "outputs": [],
   "source": [
    "cols = ['WT'] + [i + '_ko' for i in rxns_check]\n",
    "rxns_all = [rxn.id for rxn in model.reactions]\n",
    "df_pfba = pd.DataFrame(index=rxns_all, columns=cols)\n",
    "\n",
    "model_raw = modelStart.copy()\n",
    "model = modelStart.copy()\n",
    "\n",
    "df_pfba.loc[rxns_all, 'WT'] = pfba_M9.fluxes[rxns_all]\n",
    "\n",
    "for rxnid in rxns_check:\n",
    "    rxn = model.reactions.get_by_id(rxnid)\n",
    "    rxn.knock_out()\n",
    "    pfba = cobra.flux_analysis.pfba(model)\n",
    "    df_pfba.loc[rxns_all, rxnid + '_ko'] = pfba.fluxes[rxns_all]\n",
    "        \n",
    "    rxn.bounds = model_raw.reactions.get_by_id(rxn.id).bounds"
   ]
  },
  {
   "cell_type": "code",
   "execution_count": 13,
   "metadata": {},
   "outputs": [],
   "source": [
    "df_pfba.to_csv('./output/pfba_ecoli_core.csv', sep='\\t')"
   ]
  },
  {
   "cell_type": "markdown",
   "metadata": {},
   "source": [
    "Calculate pairwise Eucledian distance (normalized by number of dimensions)"
   ]
  },
  {
   "cell_type": "code",
   "execution_count": 14,
   "metadata": {},
   "outputs": [],
   "source": [
    "cols = ['WT'] + [i + '_ko' for i in rxns_check]\n",
    "df_pair_dist = pd.DataFrame(index=cols, columns=cols)\n",
    "for i in cols:\n",
    "    df_pair_dist.loc[i, i] = 0\n",
    "\n",
    "rxns_all = [rxn.id for rxn in model.reactions]\n",
    "for i in range(0, len(cols)-1):\n",
    "    for j in range(1, len(cols)):\n",
    "        eu_dist = 0\n",
    "        for rxnid in rxns_all:\n",
    "            eu_dist += (abs(df_pfba.loc[rxnid, cols[i]]) - abs(df_pfba.loc[rxnid, cols[j]])) ** 2\n",
    "        eu_dist = (eu_dist ** 0.5) / len(rxns_all)\n",
    "        \n",
    "        df_pair_dist.loc[cols[i], cols[j]] = eu_dist\n",
    "        df_pair_dist.loc[cols[j], cols[i]] = eu_dist"
   ]
  },
  {
   "cell_type": "code",
   "execution_count": 15,
   "metadata": {},
   "outputs": [],
   "source": [
    "for i in cols:\n",
    "    for j in cols:\n",
    "        if df_pair_dist.loc[i,j] < 1e-6:\n",
    "            df_pair_dist.loc[i,j] = 0"
   ]
  },
  {
   "cell_type": "code",
   "execution_count": 16,
   "metadata": {},
   "outputs": [],
   "source": [
    "mutants = df_pair_dist.columns\n",
    "\n",
    "muts_none_all = []\n",
    "for i in range(0, len(mutants)-1):\n",
    "    mut1 = mutants[i]\n",
    "    #print mut1 + ':',\n",
    "    \n",
    "    muts_none = []\n",
    "    for j in range(i+1, len(mutants)):\n",
    "        mut2 = mutants[j]\n",
    "        val = df_pair_dist.loc[mut1, mut2]\n",
    "        if val == 0:\n",
    "            muts_none.append(mut2)\n",
    "        \n",
    "    #print ','.join(muts_none)\n",
    "    muts_none_all += muts_none\n",
    "    \n",
    "muts_none_all = set(muts_none_all)"
   ]
  },
  {
   "cell_type": "code",
   "execution_count": 17,
   "metadata": {},
   "outputs": [],
   "source": [
    "idx = [mut for mut in df_pair_dist.index if mut not in muts_none_all]\n",
    "df_pair_dist = df_pair_dist.loc[idx, idx]"
   ]
  },
  {
   "cell_type": "code",
   "execution_count": 18,
   "metadata": {},
   "outputs": [],
   "source": [
    "df_pair_dist.to_csv('./output/pfba_pairwise_distance.csv', sep='\\t')"
   ]
  },
  {
   "cell_type": "code",
   "execution_count": 19,
   "metadata": {
    "scrolled": true
   },
   "outputs": [
    {
     "data": {
      "text/html": [
       "<div>\n",
       "<style scoped>\n",
       "    .dataframe tbody tr th:only-of-type {\n",
       "        vertical-align: middle;\n",
       "    }\n",
       "\n",
       "    .dataframe tbody tr th {\n",
       "        vertical-align: top;\n",
       "    }\n",
       "\n",
       "    .dataframe thead th {\n",
       "        text-align: right;\n",
       "    }\n",
       "</style>\n",
       "<table border=\"1\" class=\"dataframe\">\n",
       "  <thead>\n",
       "    <tr style=\"text-align: right;\">\n",
       "      <th></th>\n",
       "      <th>WT</th>\n",
       "      <th>AKGDH_ko</th>\n",
       "      <th>ATPS4r_ko</th>\n",
       "      <th>FBA_ko</th>\n",
       "      <th>FUM_ko</th>\n",
       "      <th>G6PDH2r_ko</th>\n",
       "      <th>GLUDy_ko</th>\n",
       "      <th>MDH_ko</th>\n",
       "      <th>PDH_ko</th>\n",
       "      <th>PGI_ko</th>\n",
       "      <th>PPC_ko</th>\n",
       "      <th>PYK_ko</th>\n",
       "      <th>RPE_ko</th>\n",
       "      <th>TALA_ko</th>\n",
       "    </tr>\n",
       "  </thead>\n",
       "  <tbody>\n",
       "    <tr>\n",
       "      <th>WT</th>\n",
       "      <td>0</td>\n",
       "      <td>0.144243</td>\n",
       "      <td>1.01538</td>\n",
       "      <td>0.809949</td>\n",
       "      <td>0.589936</td>\n",
       "      <td>0.165631</td>\n",
       "      <td>0.0939073</td>\n",
       "      <td>0.209194</td>\n",
       "      <td>0.306937</td>\n",
       "      <td>0.163794</td>\n",
       "      <td>0.0885523</td>\n",
       "      <td>0.064035</td>\n",
       "      <td>0.13704</td>\n",
       "      <td>0.151593</td>\n",
       "    </tr>\n",
       "    <tr>\n",
       "      <th>AKGDH_ko</th>\n",
       "      <td>0.144243</td>\n",
       "      <td>0</td>\n",
       "      <td>1.05119</td>\n",
       "      <td>0.791993</td>\n",
       "      <td>0.573338</td>\n",
       "      <td>0.243635</td>\n",
       "      <td>0.168013</td>\n",
       "      <td>0.276239</td>\n",
       "      <td>0.341794</td>\n",
       "      <td>0.189607</td>\n",
       "      <td>0.0699987</td>\n",
       "      <td>0.172717</td>\n",
       "      <td>0.22107</td>\n",
       "      <td>0.232424</td>\n",
       "    </tr>\n",
       "    <tr>\n",
       "      <th>ATPS4r_ko</th>\n",
       "      <td>1.01538</td>\n",
       "      <td>1.05119</td>\n",
       "      <td>0</td>\n",
       "      <td>1.46415</td>\n",
       "      <td>1.29449</td>\n",
       "      <td>1.00328</td>\n",
       "      <td>1.05374</td>\n",
       "      <td>1.09594</td>\n",
       "      <td>0.945041</td>\n",
       "      <td>1.06264</td>\n",
       "      <td>1.0273</td>\n",
       "      <td>1.02712</td>\n",
       "      <td>1.00344</td>\n",
       "      <td>1.00323</td>\n",
       "    </tr>\n",
       "    <tr>\n",
       "      <th>FBA_ko</th>\n",
       "      <td>0.809949</td>\n",
       "      <td>0.791993</td>\n",
       "      <td>1.46415</td>\n",
       "      <td>0</td>\n",
       "      <td>0.26965</td>\n",
       "      <td>0.904152</td>\n",
       "      <td>0.80916</td>\n",
       "      <td>0.875164</td>\n",
       "      <td>0.656574</td>\n",
       "      <td>0.677601</td>\n",
       "      <td>0.788758</td>\n",
       "      <td>0.831493</td>\n",
       "      <td>0.888072</td>\n",
       "      <td>0.896404</td>\n",
       "    </tr>\n",
       "    <tr>\n",
       "      <th>FUM_ko</th>\n",
       "      <td>0.589936</td>\n",
       "      <td>0.573338</td>\n",
       "      <td>1.29449</td>\n",
       "      <td>0.26965</td>\n",
       "      <td>0</td>\n",
       "      <td>0.695295</td>\n",
       "      <td>0.596358</td>\n",
       "      <td>0.676202</td>\n",
       "      <td>0.460425</td>\n",
       "      <td>0.451412</td>\n",
       "      <td>0.566693</td>\n",
       "      <td>0.61583</td>\n",
       "      <td>0.677049</td>\n",
       "      <td>0.686474</td>\n",
       "    </tr>\n",
       "    <tr>\n",
       "      <th>G6PDH2r_ko</th>\n",
       "      <td>0.165631</td>\n",
       "      <td>0.243635</td>\n",
       "      <td>1.00328</td>\n",
       "      <td>0.904152</td>\n",
       "      <td>0.695295</td>\n",
       "      <td>0</td>\n",
       "      <td>0.181456</td>\n",
       "      <td>0.196331</td>\n",
       "      <td>0.409045</td>\n",
       "      <td>0.302876</td>\n",
       "      <td>0.215369</td>\n",
       "      <td>0.145638</td>\n",
       "      <td>0.0314989</td>\n",
       "      <td>0.01583</td>\n",
       "    </tr>\n",
       "    <tr>\n",
       "      <th>GLUDy_ko</th>\n",
       "      <td>0.0939073</td>\n",
       "      <td>0.168013</td>\n",
       "      <td>1.05374</td>\n",
       "      <td>0.80916</td>\n",
       "      <td>0.596358</td>\n",
       "      <td>0.181456</td>\n",
       "      <td>0</td>\n",
       "      <td>0.203422</td>\n",
       "      <td>0.337638</td>\n",
       "      <td>0.192607</td>\n",
       "      <td>0.131129</td>\n",
       "      <td>0.102794</td>\n",
       "      <td>0.157506</td>\n",
       "      <td>0.169498</td>\n",
       "    </tr>\n",
       "    <tr>\n",
       "      <th>MDH_ko</th>\n",
       "      <td>0.209194</td>\n",
       "      <td>0.276239</td>\n",
       "      <td>1.09594</td>\n",
       "      <td>0.875164</td>\n",
       "      <td>0.676202</td>\n",
       "      <td>0.196331</td>\n",
       "      <td>0.203422</td>\n",
       "      <td>0</td>\n",
       "      <td>0.441132</td>\n",
       "      <td>0.315217</td>\n",
       "      <td>0.265797</td>\n",
       "      <td>0.152084</td>\n",
       "      <td>0.18801</td>\n",
       "      <td>0.191605</td>\n",
       "    </tr>\n",
       "    <tr>\n",
       "      <th>PDH_ko</th>\n",
       "      <td>0.306937</td>\n",
       "      <td>0.341794</td>\n",
       "      <td>0.945041</td>\n",
       "      <td>0.656574</td>\n",
       "      <td>0.460425</td>\n",
       "      <td>0.409045</td>\n",
       "      <td>0.337638</td>\n",
       "      <td>0.441132</td>\n",
       "      <td>0</td>\n",
       "      <td>0.229493</td>\n",
       "      <td>0.307194</td>\n",
       "      <td>0.338492</td>\n",
       "      <td>0.389388</td>\n",
       "      <td>0.399407</td>\n",
       "    </tr>\n",
       "    <tr>\n",
       "      <th>PGI_ko</th>\n",
       "      <td>0.163794</td>\n",
       "      <td>0.189607</td>\n",
       "      <td>1.06264</td>\n",
       "      <td>0.677601</td>\n",
       "      <td>0.451412</td>\n",
       "      <td>0.302876</td>\n",
       "      <td>0.192607</td>\n",
       "      <td>0.315217</td>\n",
       "      <td>0.229493</td>\n",
       "      <td>0</td>\n",
       "      <td>0.153482</td>\n",
       "      <td>0.201788</td>\n",
       "      <td>0.27766</td>\n",
       "      <td>0.290545</td>\n",
       "    </tr>\n",
       "    <tr>\n",
       "      <th>PPC_ko</th>\n",
       "      <td>0.0885523</td>\n",
       "      <td>0.0699987</td>\n",
       "      <td>1.0273</td>\n",
       "      <td>0.788758</td>\n",
       "      <td>0.566693</td>\n",
       "      <td>0.215369</td>\n",
       "      <td>0.131129</td>\n",
       "      <td>0.265797</td>\n",
       "      <td>0.307194</td>\n",
       "      <td>0.153482</td>\n",
       "      <td>0</td>\n",
       "      <td>0.137044</td>\n",
       "      <td>0.189616</td>\n",
       "      <td>0.202684</td>\n",
       "    </tr>\n",
       "    <tr>\n",
       "      <th>PYK_ko</th>\n",
       "      <td>0.064035</td>\n",
       "      <td>0.172717</td>\n",
       "      <td>1.02712</td>\n",
       "      <td>0.831493</td>\n",
       "      <td>0.61583</td>\n",
       "      <td>0.145638</td>\n",
       "      <td>0.102794</td>\n",
       "      <td>0.152084</td>\n",
       "      <td>0.338492</td>\n",
       "      <td>0.201788</td>\n",
       "      <td>0.137044</td>\n",
       "      <td>0</td>\n",
       "      <td>0.118971</td>\n",
       "      <td>0.132345</td>\n",
       "    </tr>\n",
       "    <tr>\n",
       "      <th>RPE_ko</th>\n",
       "      <td>0.13704</td>\n",
       "      <td>0.22107</td>\n",
       "      <td>1.00344</td>\n",
       "      <td>0.888072</td>\n",
       "      <td>0.677049</td>\n",
       "      <td>0.0314989</td>\n",
       "      <td>0.157506</td>\n",
       "      <td>0.18801</td>\n",
       "      <td>0.389388</td>\n",
       "      <td>0.27766</td>\n",
       "      <td>0.189616</td>\n",
       "      <td>0.118971</td>\n",
       "      <td>0</td>\n",
       "      <td>0.0160068</td>\n",
       "    </tr>\n",
       "    <tr>\n",
       "      <th>TALA_ko</th>\n",
       "      <td>0.151593</td>\n",
       "      <td>0.232424</td>\n",
       "      <td>1.00323</td>\n",
       "      <td>0.896404</td>\n",
       "      <td>0.686474</td>\n",
       "      <td>0.01583</td>\n",
       "      <td>0.169498</td>\n",
       "      <td>0.191605</td>\n",
       "      <td>0.399407</td>\n",
       "      <td>0.290545</td>\n",
       "      <td>0.202684</td>\n",
       "      <td>0.132345</td>\n",
       "      <td>0.0160068</td>\n",
       "      <td>0</td>\n",
       "    </tr>\n",
       "  </tbody>\n",
       "</table>\n",
       "</div>"
      ],
      "text/plain": [
       "                   WT   AKGDH_ko ATPS4r_ko    FBA_ko    FUM_ko G6PDH2r_ko  \\\n",
       "WT                  0   0.144243   1.01538  0.809949  0.589936   0.165631   \n",
       "AKGDH_ko     0.144243          0   1.05119  0.791993  0.573338   0.243635   \n",
       "ATPS4r_ko     1.01538    1.05119         0   1.46415   1.29449    1.00328   \n",
       "FBA_ko       0.809949   0.791993   1.46415         0   0.26965   0.904152   \n",
       "FUM_ko       0.589936   0.573338   1.29449   0.26965         0   0.695295   \n",
       "G6PDH2r_ko   0.165631   0.243635   1.00328  0.904152  0.695295          0   \n",
       "GLUDy_ko    0.0939073   0.168013   1.05374   0.80916  0.596358   0.181456   \n",
       "MDH_ko       0.209194   0.276239   1.09594  0.875164  0.676202   0.196331   \n",
       "PDH_ko       0.306937   0.341794  0.945041  0.656574  0.460425   0.409045   \n",
       "PGI_ko       0.163794   0.189607   1.06264  0.677601  0.451412   0.302876   \n",
       "PPC_ko      0.0885523  0.0699987    1.0273  0.788758  0.566693   0.215369   \n",
       "PYK_ko       0.064035   0.172717   1.02712  0.831493   0.61583   0.145638   \n",
       "RPE_ko        0.13704    0.22107   1.00344  0.888072  0.677049  0.0314989   \n",
       "TALA_ko      0.151593   0.232424   1.00323  0.896404  0.686474    0.01583   \n",
       "\n",
       "             GLUDy_ko    MDH_ko    PDH_ko    PGI_ko     PPC_ko    PYK_ko  \\\n",
       "WT          0.0939073  0.209194  0.306937  0.163794  0.0885523  0.064035   \n",
       "AKGDH_ko     0.168013  0.276239  0.341794  0.189607  0.0699987  0.172717   \n",
       "ATPS4r_ko     1.05374   1.09594  0.945041   1.06264     1.0273   1.02712   \n",
       "FBA_ko        0.80916  0.875164  0.656574  0.677601   0.788758  0.831493   \n",
       "FUM_ko       0.596358  0.676202  0.460425  0.451412   0.566693   0.61583   \n",
       "G6PDH2r_ko   0.181456  0.196331  0.409045  0.302876   0.215369  0.145638   \n",
       "GLUDy_ko            0  0.203422  0.337638  0.192607   0.131129  0.102794   \n",
       "MDH_ko       0.203422         0  0.441132  0.315217   0.265797  0.152084   \n",
       "PDH_ko       0.337638  0.441132         0  0.229493   0.307194  0.338492   \n",
       "PGI_ko       0.192607  0.315217  0.229493         0   0.153482  0.201788   \n",
       "PPC_ko       0.131129  0.265797  0.307194  0.153482          0  0.137044   \n",
       "PYK_ko       0.102794  0.152084  0.338492  0.201788   0.137044         0   \n",
       "RPE_ko       0.157506   0.18801  0.389388   0.27766   0.189616  0.118971   \n",
       "TALA_ko      0.169498  0.191605  0.399407  0.290545   0.202684  0.132345   \n",
       "\n",
       "               RPE_ko    TALA_ko  \n",
       "WT            0.13704   0.151593  \n",
       "AKGDH_ko      0.22107   0.232424  \n",
       "ATPS4r_ko     1.00344    1.00323  \n",
       "FBA_ko       0.888072   0.896404  \n",
       "FUM_ko       0.677049   0.686474  \n",
       "G6PDH2r_ko  0.0314989    0.01583  \n",
       "GLUDy_ko     0.157506   0.169498  \n",
       "MDH_ko        0.18801   0.191605  \n",
       "PDH_ko       0.389388   0.399407  \n",
       "PGI_ko        0.27766   0.290545  \n",
       "PPC_ko       0.189616   0.202684  \n",
       "PYK_ko       0.118971   0.132345  \n",
       "RPE_ko              0  0.0160068  \n",
       "TALA_ko     0.0160068          0  "
      ]
     },
     "execution_count": 19,
     "metadata": {},
     "output_type": "execute_result"
    }
   ],
   "source": [
    "df_pair_dist"
   ]
  },
  {
   "cell_type": "markdown",
   "metadata": {},
   "source": [
    "#### Filter pfba results"
   ]
  },
  {
   "cell_type": "code",
   "execution_count": 20,
   "metadata": {},
   "outputs": [],
   "source": [
    "df_pfba_filtered = df_pfba.loc[:, idx]\n",
    "df_pfba_filtered.to_csv('./output/pfba_ecoli_core_filtered.csv', sep='\\t')"
   ]
  },
  {
   "cell_type": "code",
   "execution_count": 21,
   "metadata": {},
   "outputs": [],
   "source": [
    "for i in df_pfba.index:\n",
    "    for j in df_pfba.columns:\n",
    "        if abs(df_pfba.loc[i,j]) < 1e-6:\n",
    "            df_pfba.loc[i,j] = 0\n",
    "            \n",
    "rxns_zero = []\n",
    "for i in df_pfba.index:\n",
    "    if all([val == 0 for val in df_pfba.loc[i, :]]):\n",
    "        rxns_zero.append(i)"
   ]
  },
  {
   "cell_type": "code",
   "execution_count": 24,
   "metadata": {},
   "outputs": [],
   "source": [
    "rxns = [rxn for rxn in df_pfba.index if rxn not in rxns_zero]\n",
    "df_pfba_filtered = df_pfba.loc[rxns, idx]"
   ]
  },
  {
   "cell_type": "code",
   "execution_count": 25,
   "metadata": {},
   "outputs": [],
   "source": [
    "df_pfba_filtered.to_csv('./output/pfba_ecoli_core_filtered2.csv', sep='\\t')"
   ]
  },
  {
   "cell_type": "code",
   "execution_count": null,
   "metadata": {},
   "outputs": [],
   "source": []
  }
 ],
 "metadata": {
  "kernelspec": {
   "display_name": "Python 2",
   "language": "python",
   "name": "python2"
  },
  "language_info": {
   "codemirror_mode": {
    "name": "ipython",
    "version": 2
   },
   "file_extension": ".py",
   "mimetype": "text/x-python",
   "name": "python",
   "nbconvert_exporter": "python",
   "pygments_lexer": "ipython2",
   "version": "2.7.14"
  }
 },
 "nbformat": 4,
 "nbformat_minor": 2
}
