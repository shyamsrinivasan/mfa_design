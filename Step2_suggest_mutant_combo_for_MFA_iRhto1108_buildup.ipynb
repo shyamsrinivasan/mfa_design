{
 "cells": [
  {
   "cell_type": "code",
   "execution_count": 1,
   "metadata": {},
   "outputs": [],
   "source": [
    "from optlang import Model, Variable, Constraint, Objective\n",
    "import pandas as pd\n",
    "from copy import deepcopy\n",
    "from tqdm import tqdm\n",
    "import cobra, cloudpickle"
   ]
  },
  {
   "cell_type": "markdown",
   "metadata": {},
   "source": [
    "Load data"
   ]
  },
  {
   "cell_type": "code",
   "execution_count": 2,
   "metadata": {},
   "outputs": [],
   "source": [
    "# Load pairwise distance\n",
    "df_pairdist = pd.read_csv('./output/Step1_pfba_pairwise_distance_iRhto1108.csv', sep='\\t', index_col=0)"
   ]
  },
  {
   "cell_type": "markdown",
   "metadata": {},
   "source": [
    "#### Define model"
   ]
  },
  {
   "cell_type": "code",
   "execution_count": 3,
   "metadata": {},
   "outputs": [],
   "source": [
    "model = Model(name='mfa_design')"
   ]
  },
  {
   "cell_type": "code",
   "execution_count": 4,
   "metadata": {},
   "outputs": [],
   "source": [
    "irhto1108 = cobra.io.load_json_model('../yeast_model/yeast_model/build_iRhto/output/rt_draft/rt_draft8C.json')"
   ]
  },
  {
   "cell_type": "markdown",
   "metadata": {},
   "source": [
    "#### Define variables"
   ]
  },
  {
   "cell_type": "code",
   "execution_count": 5,
   "metadata": {},
   "outputs": [],
   "source": [
    "cols = df_pairdist.columns.tolist()\n",
    "colpairs = []\n",
    "for i in range(0, len(cols)-1):\n",
    "    for j in range(i+1, len(cols)):\n",
    "        colpairs.append([cols[i], cols[j]])\n",
    "\n",
    "y_list = [Variable('y__' + i, type='binary', lb=0, ub=1) for i in cols]\n",
    "r_list = [Variable('__'.join(['r'] + i), type='continuous', lb=0, ub=1) for i in colpairs]"
   ]
  },
  {
   "cell_type": "code",
   "execution_count": 6,
   "metadata": {},
   "outputs": [],
   "source": [
    "vars_model = model.variables.keys()\n",
    "for var in y_list + r_list:\n",
    "    if var.name not in vars_model:\n",
    "        model.add(var)\n",
    "        \n",
    "y_list = [i.name for i in model.variables if i.name[:3] == 'y__']\n",
    "r_list = [i.name for i in model.variables if i.name[:3] == 'r__']"
   ]
  },
  {
   "cell_type": "markdown",
   "metadata": {},
   "source": [
    "#### Define objective"
   ]
  },
  {
   "cell_type": "code",
   "execution_count": 7,
   "metadata": {},
   "outputs": [
    {
     "name": "stderr",
     "output_type": "stream",
     "text": [
      "                                        \r"
     ]
    }
   ],
   "source": [
    "c_vector = []\n",
    "for r_var in tqdm(r_list, leave=False):\n",
    "    i,j = r_var.split('__')[1:]\n",
    "    c_vector.append(df_pairdist.loc[i,j])\n",
    "    \n",
    "obj = Objective(sum(c_vector[i] * model.variables[r_list[i]] for i in range(0, len(r_list))))"
   ]
  },
  {
   "cell_type": "code",
   "execution_count": 8,
   "metadata": {},
   "outputs": [],
   "source": [
    "model.objective = obj"
   ]
  },
  {
   "cell_type": "markdown",
   "metadata": {},
   "source": [
    "#### Define constraints"
   ]
  },
  {
   "cell_type": "code",
   "execution_count": 9,
   "metadata": {},
   "outputs": [],
   "source": [
    "# List 1: r_ij <= y_i\n",
    "cons_list1 = []\n",
    "name = 'cons1'; count = -1\n",
    "for r_var in r_list:\n",
    "    count += 1\n",
    "    r_ij = model.variables[r_var]\n",
    "    y_i = model.variables['y__' + r_var.split('__')[1]]\n",
    "    cons_list1.append(Constraint(r_ij - y_i, ub=0, name='_'.join([name, 'num'+str(count)])))\n",
    "    \n",
    "# List 2: r_ij <= y_j\n",
    "name = 'cons2'; count = -1\n",
    "cons_list2 = []\n",
    "for r_var in r_list:\n",
    "    count += 1\n",
    "    r_ij = model.variables[r_var]\n",
    "    y_j = model.variables['y__' + r_var.split('__')[2]]\n",
    "    cons_list2.append(Constraint(r_ij - y_j, ub=0, name='_'.join([name, 'num'+str(count)])))\n",
    "    \n",
    "# List 3: r_ij >= y_i + y_j - 1\n",
    "name = 'cons3'; count = -1\n",
    "cons_list3 = []\n",
    "for r_var in r_list:\n",
    "    count += 1\n",
    "    r_ij = model.variables[r_var]\n",
    "    y_i = model.variables['y__' + r_var.split('__')[1]]\n",
    "    y_j = model.variables['y__' + r_var.split('__')[2]]\n",
    "    cons_list3.append(Constraint(r_ij - y_i - y_j, lb=-1, name='_'.join([name, 'num'+str(count)])))\n",
    "\n",
    "# Constraint 5: y__WT = 1\n",
    "name = 'cons5'\n",
    "cons_5 = [Constraint(model.variables['y__WT'], lb=1, ub=1, name=name)]"
   ]
  },
  {
   "cell_type": "code",
   "execution_count": 10,
   "metadata": {},
   "outputs": [],
   "source": [
    "model.add(cons_list1 + cons_list2 + cons_list3 + cons_5)"
   ]
  },
  {
   "cell_type": "markdown",
   "metadata": {},
   "source": [
    "#### Save model as pickle"
   ]
  },
  {
   "cell_type": "code",
   "execution_count": 11,
   "metadata": {},
   "outputs": [],
   "source": [
    "import cloudpickle"
   ]
  },
  {
   "cell_type": "code",
   "execution_count": 12,
   "metadata": {},
   "outputs": [],
   "source": [
    "with open('./output/Step2_milp_model.pickle', 'wb') as f:\n",
    "    cloudpickle.dump(model, f)"
   ]
  },
  {
   "cell_type": "markdown",
   "metadata": {},
   "source": [
    "### Set parameters and solve"
   ]
  },
  {
   "cell_type": "code",
   "execution_count": 1,
   "metadata": {},
   "outputs": [],
   "source": [
    "from optlang import Model, Variable, Constraint, Objective\n",
    "import pandas as pd\n",
    "from copy import deepcopy\n",
    "from tqdm import tqdm\n",
    "import cobra, cloudpickle"
   ]
  },
  {
   "cell_type": "markdown",
   "metadata": {},
   "source": [
    "Load data"
   ]
  },
  {
   "cell_type": "code",
   "execution_count": 3,
   "metadata": {},
   "outputs": [],
   "source": [
    "irhto1108 = cobra.io.load_json_model('../yeast_model/yeast_model/build_iRhto/output/rt_draft/rt_draft8C.json')\n",
    "df_pairdist = pd.read_csv('./output/Step1_pfba_pairwise_distance_iRhto1108.csv', sep='\\t', index_col=0)\n",
    "\n",
    "with open('./output/Step2_milp_model.pickle', 'rb') as f:\n",
    "    model = cloudpickle.load(f)\n",
    "y_list = [i.name for i in model.variables if i.name[:3] == 'y__']\n",
    "r_list = [i.name for i in model.variables if i.name[:3] == 'r__']"
   ]
  },
  {
   "cell_type": "markdown",
   "metadata": {},
   "source": [
    "Run optimization (results: df_solns)"
   ]
  },
  {
   "cell_type": "code",
   "execution_count": 4,
   "metadata": {},
   "outputs": [],
   "source": [
    "num_muts = 16 # Number of mutants, counting WT as mutants\n",
    "\n",
    "cols = ['num_muts', 'mutants_set', 'sum_pairwise_dist', 'opt_status']\n",
    "df_solns = pd.DataFrame(columns=cols)\n",
    "\n",
    "count = -1\n",
    "for num_iter in range(2, num_muts+1):\n",
    "    \n",
    "    count += 1\n",
    "    with open('./output/Step2_milp_model.pickle', 'rb') as f:\n",
    "        model = cloudpickle.load(f)\n",
    "    \n",
    "    # Constraint 4: sum(y) = L\n",
    "    name = 'cons4'\n",
    "    cons_4 = [Constraint(sum([model.variables[i] for i in y_list]),\n",
    "                         lb=num_iter, ub=num_iter, name=name)]\n",
    "    model.add(cons_4)\n",
    "    \n",
    "    model.optimize()\n",
    "    muts = []\n",
    "    for var in model.variables.values():\n",
    "        if var.name[:3] == 'y__' and var.primal > 0.8:\n",
    "            muts.append(var.name.split('__')[1])\n",
    "    muts = [mut for mut in muts if mut != 'WT']\n",
    "    df_solns.loc[count, 'num_muts'] = num_iter-1\n",
    "    df_solns.loc[count, 'mutants_set'] = ','.join(muts)\n",
    "    df_solns.loc[count, 'sum_pairwise_dist'] = model.objective.value\n",
    "    df_solns.loc[count, 'opt_status'] = model.status"
   ]
  },
  {
   "cell_type": "code",
   "execution_count": 14,
   "metadata": {},
   "outputs": [],
   "source": [
    "df_solns.to_csv('./output/Step2_report_solutions.csv', sep='\\t', index=None)"
   ]
  },
  {
   "cell_type": "code",
   "execution_count": 5,
   "metadata": {},
   "outputs": [
    {
     "data": {
      "text/html": [
       "<div>\n",
       "<style scoped>\n",
       "    .dataframe tbody tr th:only-of-type {\n",
       "        vertical-align: middle;\n",
       "    }\n",
       "\n",
       "    .dataframe tbody tr th {\n",
       "        vertical-align: top;\n",
       "    }\n",
       "\n",
       "    .dataframe thead th {\n",
       "        text-align: right;\n",
       "    }\n",
       "</style>\n",
       "<table border=\"1\" class=\"dataframe\">\n",
       "  <thead>\n",
       "    <tr style=\"text-align: right;\">\n",
       "      <th></th>\n",
       "      <th>num_muts</th>\n",
       "      <th>mutants_set</th>\n",
       "      <th>sum_pairwise_dist</th>\n",
       "      <th>opt_status</th>\n",
       "    </tr>\n",
       "  </thead>\n",
       "  <tbody>\n",
       "    <tr>\n",
       "      <th>0</th>\n",
       "      <td>1</td>\n",
       "      <td>GAPD_c_ko</td>\n",
       "      <td>0.171254</td>\n",
       "      <td>optimal</td>\n",
       "    </tr>\n",
       "    <tr>\n",
       "      <th>1</th>\n",
       "      <td>2</td>\n",
       "      <td>GAPD_c_ko,MDH_c_ko</td>\n",
       "      <td>0.441603</td>\n",
       "      <td>optimal</td>\n",
       "    </tr>\n",
       "    <tr>\n",
       "      <th>2</th>\n",
       "      <td>3</td>\n",
       "      <td>GAPD_c_ko,MDH_c_ko,RPE_c_ko</td>\n",
       "      <td>0.780705</td>\n",
       "      <td>optimal</td>\n",
       "    </tr>\n",
       "    <tr>\n",
       "      <th>3</th>\n",
       "      <td>4</td>\n",
       "      <td>ASPTAi_m_ko,GAPD_c_ko,MDH_c_ko,RPE_c_ko</td>\n",
       "      <td>1.20367</td>\n",
       "      <td>optimal</td>\n",
       "    </tr>\n",
       "    <tr>\n",
       "      <th>4</th>\n",
       "      <td>5</td>\n",
       "      <td>ASPTAi_m_ko,ENO_c_ko,GAPD_c_ko,MDH_c_ko,RPE_c_ko</td>\n",
       "      <td>1.69563</td>\n",
       "      <td>optimal</td>\n",
       "    </tr>\n",
       "    <tr>\n",
       "      <th>5</th>\n",
       "      <td>6</td>\n",
       "      <td>ASPTAi_m_ko,ENO_c_ko,GAPD_c_ko,GND_c_ko,MDH_c_...</td>\n",
       "      <td>2.23145</td>\n",
       "      <td>optimal</td>\n",
       "    </tr>\n",
       "    <tr>\n",
       "      <th>6</th>\n",
       "      <td>7</td>\n",
       "      <td>ASPTA_c_ko,ASPTAi_m_ko,ENO_c_ko,GAPD_c_ko,GND_...</td>\n",
       "      <td>2.81692</td>\n",
       "      <td>optimal</td>\n",
       "    </tr>\n",
       "    <tr>\n",
       "      <th>7</th>\n",
       "      <td>8</td>\n",
       "      <td>ASPTA_c_ko,ASPTAi_m_ko,ENO_c_ko,GAPD_c_ko,GND_...</td>\n",
       "      <td>3.49217</td>\n",
       "      <td>optimal</td>\n",
       "    </tr>\n",
       "    <tr>\n",
       "      <th>8</th>\n",
       "      <td>9</td>\n",
       "      <td>ASPTA_c_ko,ASPTAi_m_ko,ENO_c_ko,GAPD_c_ko,GLUD...</td>\n",
       "      <td>4.14454</td>\n",
       "      <td>optimal</td>\n",
       "    </tr>\n",
       "    <tr>\n",
       "      <th>9</th>\n",
       "      <td>10</td>\n",
       "      <td>ACITL_c_ko,ASPTA_c_ko,ASPTAi_m_ko,ENO_c_ko,GAP...</td>\n",
       "      <td>4.83093</td>\n",
       "      <td>optimal</td>\n",
       "    </tr>\n",
       "    <tr>\n",
       "      <th>10</th>\n",
       "      <td>11</td>\n",
       "      <td>ACITL_c_ko,ASPTA_c_ko,ASPTAi_m_ko,ENO_c_ko,GAP...</td>\n",
       "      <td>5.52794</td>\n",
       "      <td>optimal</td>\n",
       "    </tr>\n",
       "    <tr>\n",
       "      <th>11</th>\n",
       "      <td>12</td>\n",
       "      <td>ACITL_c_ko,ASPTA_c_ko,ASPTAi_m_ko,ENO_c_ko,GAP...</td>\n",
       "      <td>6.23058</td>\n",
       "      <td>optimal</td>\n",
       "    </tr>\n",
       "    <tr>\n",
       "      <th>12</th>\n",
       "      <td>13</td>\n",
       "      <td>ACITL_c_ko,ASPTA_c_ko,ASPTAi_m_ko,ENO_c_ko,GAP...</td>\n",
       "      <td>6.94172</td>\n",
       "      <td>optimal</td>\n",
       "    </tr>\n",
       "    <tr>\n",
       "      <th>13</th>\n",
       "      <td>14</td>\n",
       "      <td>ACITL_c_ko,ASPTA_c_ko,ASPTAi_m_ko,ENO_c_ko,GAP...</td>\n",
       "      <td>7.65285</td>\n",
       "      <td>optimal</td>\n",
       "    </tr>\n",
       "    <tr>\n",
       "      <th>14</th>\n",
       "      <td>15</td>\n",
       "      <td>ACITL_c_ko,ASPTA_c_ko,ASPTAi_m_ko,ENO_c_ko,GAP...</td>\n",
       "      <td>8.3748</td>\n",
       "      <td>optimal</td>\n",
       "    </tr>\n",
       "  </tbody>\n",
       "</table>\n",
       "</div>"
      ],
      "text/plain": [
       "   num_muts                                        mutants_set  \\\n",
       "0         1                                          GAPD_c_ko   \n",
       "1         2                                 GAPD_c_ko,MDH_c_ko   \n",
       "2         3                        GAPD_c_ko,MDH_c_ko,RPE_c_ko   \n",
       "3         4            ASPTAi_m_ko,GAPD_c_ko,MDH_c_ko,RPE_c_ko   \n",
       "4         5   ASPTAi_m_ko,ENO_c_ko,GAPD_c_ko,MDH_c_ko,RPE_c_ko   \n",
       "5         6  ASPTAi_m_ko,ENO_c_ko,GAPD_c_ko,GND_c_ko,MDH_c_...   \n",
       "6         7  ASPTA_c_ko,ASPTAi_m_ko,ENO_c_ko,GAPD_c_ko,GND_...   \n",
       "7         8  ASPTA_c_ko,ASPTAi_m_ko,ENO_c_ko,GAPD_c_ko,GND_...   \n",
       "8         9  ASPTA_c_ko,ASPTAi_m_ko,ENO_c_ko,GAPD_c_ko,GLUD...   \n",
       "9        10  ACITL_c_ko,ASPTA_c_ko,ASPTAi_m_ko,ENO_c_ko,GAP...   \n",
       "10       11  ACITL_c_ko,ASPTA_c_ko,ASPTAi_m_ko,ENO_c_ko,GAP...   \n",
       "11       12  ACITL_c_ko,ASPTA_c_ko,ASPTAi_m_ko,ENO_c_ko,GAP...   \n",
       "12       13  ACITL_c_ko,ASPTA_c_ko,ASPTAi_m_ko,ENO_c_ko,GAP...   \n",
       "13       14  ACITL_c_ko,ASPTA_c_ko,ASPTAi_m_ko,ENO_c_ko,GAP...   \n",
       "14       15  ACITL_c_ko,ASPTA_c_ko,ASPTAi_m_ko,ENO_c_ko,GAP...   \n",
       "\n",
       "   sum_pairwise_dist opt_status  \n",
       "0           0.171254    optimal  \n",
       "1           0.441603    optimal  \n",
       "2           0.780705    optimal  \n",
       "3            1.20367    optimal  \n",
       "4            1.69563    optimal  \n",
       "5            2.23145    optimal  \n",
       "6            2.81692    optimal  \n",
       "7            3.49217    optimal  \n",
       "8            4.14454    optimal  \n",
       "9            4.83093    optimal  \n",
       "10           5.52794    optimal  \n",
       "11           6.23058    optimal  \n",
       "12           6.94172    optimal  \n",
       "13           7.65285    optimal  \n",
       "14            8.3748    optimal  "
      ]
     },
     "execution_count": 5,
     "metadata": {},
     "output_type": "execute_result"
    }
   ],
   "source": [
    "df_solns"
   ]
  },
  {
   "cell_type": "code",
   "execution_count": 9,
   "metadata": {},
   "outputs": [
    {
     "name": "stdout",
     "output_type": "stream",
     "text": [
      "GAPD_c_ko MDH_c_ko 0.21230239977857515\n",
      "MDH_c_ko GAPD_c_ko 0.21230239977857515\n"
     ]
    }
   ],
   "source": [
    "# Mutant-mutant pair with highest distance (including WT as mutant)\n",
    "maxval = df_pairdist.max().max()\n",
    "for mut1 in df_pairdist:\n",
    "    for mut2 in df_pairdist:\n",
    "        if df_pairdist.loc[mut1, mut2] > 0.9999*maxval:\n",
    "            print mut1, mut2, df_pairdist.loc[mut1, mut2]"
   ]
  },
  {
   "cell_type": "markdown",
   "metadata": {},
   "source": [
    "#### Record mutants into an interpretable format\n",
    "(result: df_record)"
   ]
  },
  {
   "cell_type": "code",
   "execution_count": 10,
   "metadata": {},
   "outputs": [],
   "source": [
    "# Highest recorded mutant-mutant distance\n",
    "mutmut_max = df_pairdist.max().max()\n",
    "wtmut_max = df_pairdist.WT.max()\n",
    "\n",
    "cols = ['Appearance', 'Mutant', 'GPR', 'Name', 'Reaction', 'Distance from WT',\n",
    "        'Distance from mutant (highest value)']\n",
    "df_record = pd.DataFrame(index=df_solns.index, columns=cols)\n",
    "\n",
    "already = []\n",
    "for i in df_record.index:\n",
    "    muts = df_solns.mutants_set[i].split(',')\n",
    "    app = 'Set of ' + str(len(muts))\n",
    "    \n",
    "    for mut in muts:\n",
    "        if mut not in already:\n",
    "            already.append(mut)\n",
    "            df_record.loc[i, 'Appearance'] = app\n",
    "            df_record.loc[i, 'Mutant'] = mut[:-3]\n",
    "            rxn = irhto1108.reactions.get_by_id(mut[:-3])\n",
    "            df_record.loc[i, 'GPR'] = rxn.gene_reaction_rule\n",
    "            df_record.loc[i, 'Name'] = rxn.name\n",
    "            df_record.loc[i, 'Reaction'] = rxn.reaction\n",
    "            df_record.loc[i, 'Distance from WT'] = df_pairdist.loc['WT', mut] / wtmut_max\n",
    "            df_record.loc[i, 'Distance from mutant (highest value)'] = \\\n",
    "                df_pairdist[mut][muts].max() / mutmut_max"
   ]
  },
  {
   "cell_type": "code",
   "execution_count": 15,
   "metadata": {},
   "outputs": [],
   "source": [
    "df_record.to_csv('./output/Step2_record_mutants.csv', sep='\\t', index=None)"
   ]
  },
  {
   "cell_type": "code",
   "execution_count": 19,
   "metadata": {},
   "outputs": [
    {
     "data": {
      "text/html": [
       "\n",
       "        <table>\n",
       "            <tr>\n",
       "                <td><strong>Reaction identifier</strong></td><td>PFK_3_c</td>\n",
       "            </tr><tr>\n",
       "                <td><strong>Name</strong></td><td>phosphofructokinase (s7p)</td>\n",
       "            </tr><tr>\n",
       "                <td><strong>Memory address</strong></td>\n",
       "                <td>0x07f1f9d458fd0</td>\n",
       "            </tr><tr>\n",
       "                <td><strong>Stoichiometry</strong></td>\n",
       "                <td>\n",
       "                    <p style='text-align:right'>atp_c + s7p_c --> adp_c + h_c + s17bp_c</p>\n",
       "                    <p style='text-align:right'>ATP + sedoheptulose 7-phosphate --> ADP + H+ + sedoheptulose 1,7-bisphosphate</p>\n",
       "                </td>\n",
       "            </tr><tr>\n",
       "                <td><strong>GPR</strong></td><td>rt0491 or rt0495 or rt0499</td>\n",
       "            </tr><tr>\n",
       "                <td><strong>Lower bound</strong></td><td>0</td>\n",
       "            </tr><tr>\n",
       "                <td><strong>Upper bound</strong></td><td>1000</td>\n",
       "            </tr>\n",
       "        </table>\n",
       "        "
      ],
      "text/plain": [
       "<Reaction PFK_3_c at 0x7f1f9d458fd0>"
      ]
     },
     "execution_count": 19,
     "metadata": {},
     "output_type": "execute_result"
    }
   ],
   "source": [
    "irhto1108.reactions.PFK"
   ]
  },
  {
   "cell_type": "code",
   "execution_count": 20,
   "metadata": {},
   "outputs": [
    {
     "name": "stdout",
     "output_type": "stream",
     "text": [
      "g3p_c + nad_c + pi_c <=> 13dpg_c + h_c + nadh_c\n",
      "mal__L_c + nad_c <=> h_c + nadh_c + oaa_c\n",
      "ru5p__D_c <=> xu5p__D_c\n",
      "glu__L_m + oaa_m --> akg_m + asp__L_m\n",
      "2pg_c <=> h2o_c + pep_c\n",
      "6pgc_c + nadp_c --> co2_c + nadph_c + ru5p__D_c\n",
      "akg_c + asp__L_c <=> glu__L_c + oaa_c\n",
      "3pg_c <=> 2pg_c\n",
      "akg_c + h_c + nadph_c + nh4_c --> glu__L_c + h2o_c + nadp_c\n",
      "atp_c + cit_c + coa_c --> accoa_c + adp_c + oaa_c + pi_c\n",
      "atp_c + f6p_c --> adp_c + fdp_c + h_c\n",
      "atp_c + hco3_c + pyr_c --> adp_c + h_c + oaa_c + pi_c\n",
      "3pg_c + nad_c --> 3php_c + h_c + nadh_c\n",
      "h2o_c + pser__L_c --> pi_c + ser__L_c\n",
      "atp_c + s7p_c --> adp_c + h_c + s17bp_c\n"
     ]
    }
   ],
   "source": [
    "for rxn in df_record.Mutant:\n",
    "    print irhto1108.reactions.get_by_id(rxn).reaction"
   ]
  },
  {
   "cell_type": "code",
   "execution_count": null,
   "metadata": {},
   "outputs": [],
   "source": []
  },
  {
   "cell_type": "code",
   "execution_count": 18,
   "metadata": {},
   "outputs": [],
   "source": [
    "# For making escher csv file\n",
    "def make_escher_csv(mflux, path):\n",
    "    import csv\n",
    "    import pandas\n",
    "    if isinstance(mflux, pandas.core.series.Series) != True:\n",
    "        mflux = mflux.fluxes\n",
    "    with open(path, 'w') as f:\n",
    "        fcsv = csv.writer(f, delimiter=',')\n",
    "        fcsv.writerow(['Rxn', 'Flux'])\n",
    "        for rxn in mflux.index:\n",
    "            fcsv.writerow([rxn, mflux[rxn]])"
   ]
  },
  {
   "cell_type": "code",
   "execution_count": null,
   "metadata": {},
   "outputs": [],
   "source": []
  }
 ],
 "metadata": {
  "kernelspec": {
   "display_name": "Python 2",
   "language": "python",
   "name": "python2"
  },
  "language_info": {
   "codemirror_mode": {
    "name": "ipython",
    "version": 2
   },
   "file_extension": ".py",
   "mimetype": "text/x-python",
   "name": "python",
   "nbconvert_exporter": "python",
   "pygments_lexer": "ipython2",
   "version": "2.7.14"
  }
 },
 "nbformat": 4,
 "nbformat_minor": 2
}
